{
 "cells": [
  {
   "cell_type": "markdown",
   "metadata": {},
   "source": [
    "# SUPRIYA PANIGRAHI\n",
    "\n",
    "# ROLL NO - E21021"
   ]
  },
  {
   "cell_type": "code",
   "execution_count": 1,
   "metadata": {},
   "outputs": [],
   "source": [
    "# Import libraries required\n",
    "import statistics as st\n",
    "from scipy import stats\n",
    "import math\n",
    "import os\n",
    "import numpy as np\n",
    "import pandas as pd\n",
    "os.chdir(\"C:\\\\Users\\\\92sup\\\\Downloads\\\\ML\\\\PROJECTS\\\\Classification-Iris\") #change the directory path and set to the location where the file is located\n",
    "iris = pd.read_csv(\"IRIS.csv\") #read the IRIS Csv file \n",
    "iris=iris.sample(frac=1) #sample the data once for better analysis"
   ]
  },
  {
   "cell_type": "markdown",
   "metadata": {},
   "source": [
    "## Manually standardizing the data"
   ]
  },
  {
   "cell_type": "code",
   "execution_count": 2,
   "metadata": {},
   "outputs": [],
   "source": [
    "# standardize the predictors\n",
    "iris.sepal_length = (iris.sepal_length - np.mean(iris.sepal_length)) / np.std(iris.sepal_length)\n",
    "iris.sepal_width  = (iris.sepal_width - np.mean(iris.sepal_width)) / np.std(iris.sepal_width)\n",
    "iris.petal_length = (iris.petal_length - np.mean(iris.petal_length)) / np.std(iris.petal_length)\n",
    "iris.petal_width  = (iris.petal_width - np.mean(iris.petal_width)) / np.std(iris.petal_width)"
   ]
  },
  {
   "cell_type": "markdown",
   "metadata": {},
   "source": [
    "## Manually splitting the data into train and test and also assigning the target and the predictors"
   ]
  },
  {
   "cell_type": "code",
   "execution_count": 3,
   "metadata": {},
   "outputs": [],
   "source": [
    "#assiging the predictors\n",
    "predictors=iris[['sepal_length','sepal_width','petal_length','petal_width']]\n",
    "#assigining the target variable\n",
    "target=iris[[\"species\"]]\n",
    "#splitting the data into test and train. \n",
    "x_train=predictors.iloc[:101,:] #splitting train predictors\n",
    "y_train=target.iloc[:101,:] #splitting the target train\n",
    "x_test=predictors.iloc[101:,:] #splitting test predictors\n",
    "y_test=target.iloc[101:,:] #splitting test target"
   ]
  },
  {
   "cell_type": "markdown",
   "metadata": {},
   "source": [
    "# KNN CLASSIFICATION FUNCTION"
   ]
  },
  {
   "cell_type": "code",
   "execution_count": 18,
   "metadata": {},
   "outputs": [
    {
     "name": "stdout",
     "output_type": "stream",
     "text": [
      "enter the k value for calculating k nearest neighbour : - 2\n",
      "['Iris-versicolor']     ['Iris-versicolor']\n",
      "['Iris-versicolor']     ['Iris-versicolor']\n",
      "['Iris-versicolor']     ['Iris-virginica']\n",
      "['Iris-versicolor']     ['Iris-versicolor']\n",
      "['Iris-setosa']     ['Iris-setosa']\n",
      "['Iris-versicolor']     ['Iris-versicolor']\n",
      "['Iris-virginica']     ['Iris-virginica']\n",
      "['Iris-setosa']     ['Iris-setosa']\n",
      "['Iris-versicolor']     ['Iris-versicolor']\n",
      "['Iris-setosa']     ['Iris-setosa']\n",
      "['Iris-setosa']     ['Iris-setosa']\n",
      "['Iris-virginica']     ['Iris-virginica']\n",
      "['Iris-setosa']     ['Iris-setosa']\n",
      "['Iris-setosa']     ['Iris-setosa']\n",
      "['Iris-virginica']     ['Iris-virginica']\n",
      "['Iris-setosa']     ['Iris-setosa']\n",
      "['Iris-virginica']     ['Iris-virginica']\n",
      "['Iris-virginica']     ['Iris-virginica']\n",
      "['Iris-versicolor']     ['Iris-versicolor']\n",
      "['Iris-versicolor']     ['Iris-versicolor']\n",
      "['Iris-versicolor']     ['Iris-versicolor']\n",
      "['Iris-setosa']     ['Iris-setosa']\n",
      "['Iris-virginica']     ['Iris-virginica']\n",
      "['Iris-versicolor']     ['Iris-versicolor']\n",
      "['Iris-versicolor']     ['Iris-versicolor']\n",
      "['Iris-setosa']     ['Iris-setosa']\n",
      "['Iris-setosa']     ['Iris-setosa']\n",
      "['Iris-virginica']     ['Iris-virginica']\n",
      "['Iris-setosa']     ['Iris-setosa']\n",
      "['Iris-setosa']     ['Iris-setosa']\n",
      "['Iris-versicolor']     ['Iris-versicolor']\n",
      "['Iris-virginica']     ['Iris-virginica']\n",
      "['Iris-setosa']     ['Iris-setosa']\n",
      "['Iris-virginica']     ['Iris-versicolor']\n",
      "['Iris-setosa']     ['Iris-setosa']\n",
      "['Iris-virginica']     ['Iris-virginica']\n",
      "['Iris-virginica']     ['Iris-virginica']\n",
      "['Iris-setosa']     ['Iris-setosa']\n",
      "['Iris-setosa']     ['Iris-setosa']\n",
      "['Iris-virginica']     ['Iris-virginica']\n",
      "['Iris-versicolor']     ['Iris-versicolor']\n",
      "['Iris-setosa']     ['Iris-setosa']\n",
      "['Iris-setosa']     ['Iris-setosa']\n",
      "['Iris-setosa']     ['Iris-setosa']\n",
      "['Iris-versicolor']     ['Iris-versicolor']\n",
      "['Iris-versicolor']     ['Iris-versicolor']\n",
      "['Iris-versicolor']     ['Iris-versicolor']\n",
      "['Iris-versicolor']     ['Iris-versicolor']\n",
      "['Iris-virginica']     ['Iris-virginica']\n",
      "\n",
      "Accuracy : 95 %\n"
     ]
    }
   ],
   "source": [
    "# Define function for K NN classification\n",
    "def k_nn(x_train,x_test,k):\n",
    "    count_correct = 0\n",
    "    list2=[]# empty list declaration for appending index of minimum eucledian distance\n",
    "    for i in range(len(x_test)):# loop that runs till range of length of test values of predictors\n",
    "# declare empty list within loop to append the eucledian distance for all the train values with respect to each train value\n",
    "        list=[]\n",
    "        new = []\n",
    "        A={} # declare an empty dictionary \n",
    "        eucledian_dist=0  #eucledian_dist variable for storing the distance\n",
    "        pt2=x_test.iloc[i] # assigning a test value to point 2 each time the loop runs\n",
    "        for j in range(len(x_train)): # for loop to run in range of length of all train values of predictors\n",
    "            pt1=x_train.iloc[j]  #Assign point 1 with a train value each time the loop runs\n",
    "            eucledian_dist=np.sqrt(np.sum(np.square(pt2-pt1)))  # calculate the eucledian distance between 2 points\n",
    "            list.append(eucledian_dist) # append each distance to list\n",
    "#To find the index of K nearest values from the list of eucledian distance using the sorted+range +lambda \n",
    "            A=sorted(range(len(list)), key = lambda a: list[a])[:k] #here the range is taken as the whole length of the values that \n",
    "                                                                    #list stores and it creates a temp contaier,sorts the list upto k nearest neighbour\n",
    "                                                                    #and gives the index of the values.\n",
    "        list2.append(A) # outside loop A to the list\n",
    "    #print(list2)\n",
    "    a = 0 # variable for test value counter\n",
    "    for i in list2: #Loop that runs for values in list2 that stores k nearest indexes\n",
    "        v=[] # empty list to hold the values for each index in list2\n",
    "        for j in i: #loop to run for each value in i from list2\n",
    "            v.append(y_train.iloc[j].values) # appends the values for j indexes in v\n",
    "        v=np.asarray(v)#convert the list into numpy array\n",
    "        mode=stats.mode(v) #calculate the mode of array that is the value for target train.\n",
    "        new.append(mode[0])\n",
    "        #print(new[0][0])\n",
    "        print(mode[0][0],\"   \",y_test.iloc[a].values)#print the values of train target and test target together for better comparison\n",
    "            #Calculating no. of correct predictions / Accuracy\n",
    "        if mode[0][0] == y_test.iloc[a].values :\n",
    "            count_correct = count_correct + 1 # Counting exact matches\n",
    "        a=a+1 # increase the counter after each loop runs\n",
    "     \n",
    "        \n",
    "    accuracy = count_correct / len(y_test) * 100 # Calculating the accuracy\n",
    "    print('\\nAccuracy : %d' %accuracy,'%')\n",
    " \n",
    "       \n",
    "k=eval(input(\"enter the k value for calculating k nearest neighbour : - \"))\n",
    "k_nn(x_train,x_test,k) #call the function with values train and test and the K value aswell\n"
   ]
  },
  {
   "cell_type": "code",
   "execution_count": null,
   "metadata": {},
   "outputs": [],
   "source": [
    "## Hence we can say that "
   ]
  },
  {
   "cell_type": "code",
   "execution_count": null,
   "metadata": {},
   "outputs": [],
   "source": []
  },
  {
   "cell_type": "code",
   "execution_count": null,
   "metadata": {},
   "outputs": [],
   "source": []
  },
  {
   "cell_type": "code",
   "execution_count": null,
   "metadata": {},
   "outputs": [],
   "source": []
  },
  {
   "cell_type": "markdown",
   "metadata": {},
   "source": [
    "# Decision Tree Classification"
   ]
  }
 ],
 "metadata": {
  "kernelspec": {
   "display_name": "Python 3",
   "language": "python",
   "name": "python3"
  },
  "language_info": {
   "codemirror_mode": {
    "name": "ipython",
    "version": 3
   },
   "file_extension": ".py",
   "mimetype": "text/x-python",
   "name": "python",
   "nbconvert_exporter": "python",
   "pygments_lexer": "ipython3",
   "version": "3.8.5"
  }
 },
 "nbformat": 4,
 "nbformat_minor": 4
}
